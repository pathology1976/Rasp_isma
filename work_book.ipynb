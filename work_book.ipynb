{
 "cells": [
  {
   "cell_type": "code",
   "execution_count": 40,
   "metadata": {},
   "outputs": [
    {
     "name": "stdout",
     "output_type": "stream",
     "text": [
      "Wednesday\n",
      "19:04:01.730526\n",
      "У твоей 101 группы идет пара: Физ-ра. Поторопись, йобана\n"
     ]
    }
   ],
   "source": [
    "import pandas as pd\n",
    "from datetime import datetime\n",
    "\n",
    "\n",
    "current_datetime = datetime.now()\n",
    "current_day = current_datetime.strftime(\"%A\")\n",
    "current_time = datetime.now().time()\n",
    "time_in_minutes = (current_time.hour * 60) + current_time.minute\n",
    "print(current_day)\n",
    "print(current_time)\n",
    "\n",
    "def idet_para(rasp):\n",
    "    group = int(input(\"Какой твой номер группы (введи только цифры): \"))\n",
    "    current_lesson = rasp[\n",
    "    (rasp['group'] == group) & \n",
    "    (rasp['day'] == current_day) & \n",
    "    (rasp['start_time'].astype(int) <= (time_in_minutes)) & \n",
    "    (rasp['finish_time'].astype(int) >= (time_in_minutes))]\n",
    "    \n",
    "    if not current_lesson.empty:\n",
    "        lesson = current_lesson.iloc[0][\"lesson\"]\n",
    "        print(f\"У твоей {group} группы идет пара: {lesson}. Поторопись, йобана\")\n",
    "    else: \n",
    "        print(f\"У {group} группы сейчас нет занятий, иди нахуй.\")\n",
    "\n",
    "rasp = pd.read_csv(\"rasp.csv\", sep=\"\\t\")\n",
    "idet_para(rasp)"
   ]
  },
  {
   "cell_type": "code",
   "execution_count": 39,
   "metadata": {},
   "outputs": [
    {
     "name": "stdout",
     "output_type": "stream",
     "text": [
      "Текущее время: 18:58:11.711475\n",
      "Время в минутах: 1138\n"
     ]
    }
   ],
   "source": [
    "# Преобразование времени в числовое значение в минутах\n",
    "time_in_minutes = (current_time.hour * 60) + current_time.minute\n",
    "\n",
    "print(current_time)\n",
    "print(time_in_minutes)"
   ]
  },
  {
   "cell_type": "code",
   "execution_count": 33,
   "metadata": {},
   "outputs": [
    {
     "name": "stdout",
     "output_type": "stream",
     "text": [
      "Числовое значение времени в минутах: 620\n"
     ]
    }
   ],
   "source": [
    "def time_to_minutes(time_str):\n",
    "    try:\n",
    "        hours, minutes,  = map(int, time_str.split(':'))\n",
    "        total_minutes = hours * 60 + minutes\n",
    "        return total_minutes\n",
    "    except ValueError:\n",
    "        print(\"Ошибка: Некорректный формат времени. Используйте формат ЧЧ:ММ.\")\n",
    "        return None\n",
    "\n",
    "\n",
    "input_time = input(\"Введите время в формате ЧЧ:ММ: \")\n",
    "result = time_to_minutes(input_time)\n",
    "print(f\"Числовое значение времени в минутах: {result}\")"
   ]
  }
 ],
 "metadata": {
  "kernelspec": {
   "display_name": "Python 3",
   "language": "python",
   "name": "python3"
  },
  "language_info": {
   "codemirror_mode": {
    "name": "ipython",
    "version": 3
   },
   "file_extension": ".py",
   "mimetype": "text/x-python",
   "name": "python",
   "nbconvert_exporter": "python",
   "pygments_lexer": "ipython3",
   "version": "3.11.5"
  }
 },
 "nbformat": 4,
 "nbformat_minor": 2
}
